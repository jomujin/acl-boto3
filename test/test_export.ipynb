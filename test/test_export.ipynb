{
 "cells": [
  {
   "cell_type": "code",
   "execution_count": 1,
   "source": [
    "import os\n",
    "os.chdir('../')\n",
    "import logging\n",
    "import psycopg2\n",
    "import boto3\n",
    "from botocore.exceptions import ClientError\n",
    "from sqlmodel import create_engine, Session\n",
    "from config.config import TEST_AWS_DB\n",
    "from condition.config_cond import (\n",
    "    AWS_CONFIG,\n",
    "    AWS_AURORA_CONFIG,\n",
    "    S3_BUCKET\n",
    ")\n",
    "from classes.AWSFileTransfer import AWSFileTransfer"
   ],
   "outputs": [
    {
     "output_type": "stream",
     "name": "stdout",
     "text": [
      "DBConn __new__ is called\n",
      "DBConn __init__ is called\n"
     ]
    }
   ],
   "metadata": {}
  },
  {
   "cell_type": "code",
   "execution_count": 2,
   "source": [
    "con = TEST_AWS_DB.getPsypgConn()\n",
    "cur = con.cursor()\n",
    "\n",
    "cur.execute(\n",
    "    query=\"\"\"\n",
    "    select\n",
    "        schemaname,\n",
    "        tablename\n",
    "    from pg_catalog.pg_tables\n",
    "    where schemaname = 'kb'\n",
    "    order by tablename\n",
    "    \"\"\"\n",
    ")\n",
    "\n",
    "rows = cur.fetchall()\n",
    "rows"
   ],
   "outputs": [
    {
     "output_type": "stream",
     "name": "stdout",
     "text": [
      "데이터베이스 접속 성공\n"
     ]
    },
    {
     "output_type": "execute_result",
     "data": {
      "text/plain": [
       "[('kb', 'kb_complex'),\n",
       " ('kb', 'kb_complex_202204_w1'),\n",
       " ('kb', 'kb_complex_202204_w2'),\n",
       " ('kb', 'kb_complex_202204_w3'),\n",
       " ('kb', 'kb_complex_202204_w4'),\n",
       " ('kb', 'kb_complex_202210_w4'),\n",
       " ('kb', 'kb_complex_202211_w1'),\n",
       " ('kb', 'kb_complex_202211_w2'),\n",
       " ('kb', 'kb_complex_202211_w3'),\n",
       " ('kb', 'kb_complex_202211_w4'),\n",
       " ('kb', 'kb_complex_202212_w1'),\n",
       " ('kb', 'kb_complex_202212_w2'),\n",
       " ('kb', 'kb_complex_202212_w3'),\n",
       " ('kb', 'kb_complex_202212_w4'),\n",
       " ('kb', 'kb_complex_202212_w5'),\n",
       " ('kb', 'kb_complex_202301_w1'),\n",
       " ('kb', 'kb_complex_pnu_map'),\n",
       " ('kb', 'kb_complex_pnu_map_202204_w1'),\n",
       " ('kb', 'kb_complex_pnu_map_202204_w2'),\n",
       " ('kb', 'kb_complex_pnu_map_202204_w3'),\n",
       " ('kb', 'kb_complex_pnu_map_202204_w4'),\n",
       " ('kb', 'kb_complex_pnu_map_202210_w4'),\n",
       " ('kb', 'kb_complex_pnu_map_202211_w1'),\n",
       " ('kb', 'kb_complex_pnu_map_202211_w2'),\n",
       " ('kb', 'kb_complex_pnu_map_202211_w3'),\n",
       " ('kb', 'kb_complex_pnu_map_202211_w4'),\n",
       " ('kb', 'kb_complex_pnu_map_202212_w1'),\n",
       " ('kb', 'kb_complex_pnu_map_202212_w2'),\n",
       " ('kb', 'kb_complex_pnu_map_202212_w3'),\n",
       " ('kb', 'kb_complex_pnu_map_202212_w4'),\n",
       " ('kb', 'kb_complex_pnu_map_202212_w5'),\n",
       " ('kb', 'kb_complex_pnu_map_202301_w1'),\n",
       " ('kb', 'kb_complex_pnu_map_fail'),\n",
       " ('kb', 'kb_complex_pnu_map_fail_202204_w1'),\n",
       " ('kb', 'kb_complex_pnu_map_fail_202204_w2'),\n",
       " ('kb', 'kb_complex_pnu_map_fail_202204_w3'),\n",
       " ('kb', 'kb_complex_pnu_map_fail_202204_w4'),\n",
       " ('kb', 'kb_complex_pnu_map_fail_202210_w4'),\n",
       " ('kb', 'kb_complex_pnu_map_fail_202211_w1'),\n",
       " ('kb', 'kb_complex_pnu_map_fail_202211_w2'),\n",
       " ('kb', 'kb_complex_pnu_map_fail_202211_w3'),\n",
       " ('kb', 'kb_complex_pnu_map_fail_202211_w4'),\n",
       " ('kb', 'kb_complex_pnu_map_fail_202212_w1'),\n",
       " ('kb', 'kb_complex_pnu_map_fail_202212_w2'),\n",
       " ('kb', 'kb_complex_pnu_map_fail_202212_w3'),\n",
       " ('kb', 'kb_complex_pnu_map_fail_202212_w4'),\n",
       " ('kb', 'kb_complex_pnu_map_fail_202212_w5'),\n",
       " ('kb', 'kb_complex_pnu_map_fail_202301_w1'),\n",
       " ('kb', 'kb_ho_estimated_price'),\n",
       " ('kb', 'kb_ho_estimated_price_202203_w4'),\n",
       " ('kb', 'kb_ho_estimated_price_202203_w5'),\n",
       " ('kb', 'kb_ho_estimated_price_202204_w1'),\n",
       " ('kb', 'kb_ho_estimated_price_202204_w2'),\n",
       " ('kb', 'kb_ho_estimated_price_202204_w3'),\n",
       " ('kb', 'kb_ho_estimated_price_202204_w4'),\n",
       " ('kb', 'kb_ho_estimated_price_202210_w4'),\n",
       " ('kb', 'kb_ho_estimated_price_202211_w1'),\n",
       " ('kb', 'kb_ho_estimated_price_202211_w2'),\n",
       " ('kb', 'kb_ho_estimated_price_202211_w3'),\n",
       " ('kb', 'kb_ho_estimated_price_202211_w4'),\n",
       " ('kb', 'kb_ho_estimated_price_202212_w1'),\n",
       " ('kb', 'kb_ho_estimated_price_202212_w2'),\n",
       " ('kb', 'kb_ho_estimated_price_202212_w3'),\n",
       " ('kb', 'kb_ho_estimated_price_202212_w4'),\n",
       " ('kb', 'kb_ho_estimated_price_202212_w5'),\n",
       " ('kb', 'kb_ho_estimated_price_202301_w1'),\n",
       " ('kb', 'kb_ho_estimated_price_import'),\n",
       " ('kb', 'kb_legaldong'),\n",
       " ('kb', 'kb_legaldong_202204_w1'),\n",
       " ('kb', 'kb_legaldong_202204_w2'),\n",
       " ('kb', 'kb_legaldong_202204_w3'),\n",
       " ('kb', 'kb_legaldong_202204_w4'),\n",
       " ('kb', 'kb_legaldong_202210_w4'),\n",
       " ('kb', 'kb_legaldong_202211_w1'),\n",
       " ('kb', 'kb_legaldong_202211_w2'),\n",
       " ('kb', 'kb_legaldong_202211_w3'),\n",
       " ('kb', 'kb_legaldong_202211_w4'),\n",
       " ('kb', 'kb_legaldong_202212_w1'),\n",
       " ('kb', 'kb_legaldong_202212_w2'),\n",
       " ('kb', 'kb_legaldong_202212_w3'),\n",
       " ('kb', 'kb_legaldong_202212_w4'),\n",
       " ('kb', 'kb_legaldong_202212_w5'),\n",
       " ('kb', 'kb_legaldong_202301_w1'),\n",
       " ('kb', 'kb_peongtype'),\n",
       " ('kb', 'kb_peongtype_202204_w1'),\n",
       " ('kb', 'kb_peongtype_202204_w2'),\n",
       " ('kb', 'kb_peongtype_202204_w3'),\n",
       " ('kb', 'kb_peongtype_202204_w4'),\n",
       " ('kb', 'kb_peongtype_202210_w4'),\n",
       " ('kb', 'kb_peongtype_202211_w1'),\n",
       " ('kb', 'kb_peongtype_202211_w2'),\n",
       " ('kb', 'kb_peongtype_202211_w3'),\n",
       " ('kb', 'kb_peongtype_202211_w4'),\n",
       " ('kb', 'kb_peongtype_202212_w1'),\n",
       " ('kb', 'kb_peongtype_202212_w2'),\n",
       " ('kb', 'kb_peongtype_202212_w3'),\n",
       " ('kb', 'kb_peongtype_202212_w4'),\n",
       " ('kb', 'kb_peongtype_202212_w5'),\n",
       " ('kb', 'kb_peongtype_202301_w1'),\n",
       " ('kb', 'kb_price'),\n",
       " ('kb', 'kb_price_202204_w1'),\n",
       " ('kb', 'kb_price_202204_w2'),\n",
       " ('kb', 'kb_price_202204_w3'),\n",
       " ('kb', 'kb_price_202204_w4'),\n",
       " ('kb', 'kb_price_202210_w4'),\n",
       " ('kb', 'kb_price_202211_w1'),\n",
       " ('kb', 'kb_price_202211_w2'),\n",
       " ('kb', 'kb_price_202211_w3'),\n",
       " ('kb', 'kb_price_202211_w4'),\n",
       " ('kb', 'kb_price_202212_w1'),\n",
       " ('kb', 'kb_price_202212_w2'),\n",
       " ('kb', 'kb_price_202212_w3'),\n",
       " ('kb', 'kb_price_202212_w4'),\n",
       " ('kb', 'kb_price_202212_w5'),\n",
       " ('kb', 'kb_price_202301_w1'),\n",
       " ('kb', 'kb_py_info'),\n",
       " ('kb', 'kb_py_info_202203_w4'),\n",
       " ('kb', 'kb_py_info_202203_w5'),\n",
       " ('kb', 'kb_py_info_202204_w1'),\n",
       " ('kb', 'kb_py_info_202204_w2'),\n",
       " ('kb', 'kb_py_info_202204_w3'),\n",
       " ('kb', 'kb_py_info_202204_w4'),\n",
       " ('kb', 'kb_py_info_202210_w4'),\n",
       " ('kb', 'kb_py_info_202211_w1'),\n",
       " ('kb', 'kb_py_info_202211_w2'),\n",
       " ('kb', 'kb_py_info_202211_w3'),\n",
       " ('kb', 'kb_py_info_202211_w4'),\n",
       " ('kb', 'kb_py_info_202212_w1'),\n",
       " ('kb', 'kb_py_info_202212_w2'),\n",
       " ('kb', 'kb_py_info_202212_w3'),\n",
       " ('kb', 'kb_py_info_202212_w4'),\n",
       " ('kb', 'kb_py_info_202212_w5'),\n",
       " ('kb', 'kb_py_info_202301_w1')]"
      ]
     },
     "metadata": {},
     "execution_count": 2
    }
   ],
   "metadata": {}
  },
  {
   "cell_type": "code",
   "execution_count": 3,
   "source": [
    "len(rows)"
   ],
   "outputs": [
    {
     "output_type": "execute_result",
     "data": {
      "text/plain": [
       "133"
      ]
     },
     "metadata": {},
     "execution_count": 3
    }
   ],
   "metadata": {}
  },
  {
   "cell_type": "code",
   "execution_count": 4,
   "source": [
    "database_name = 'raw-data-v2'\n",
    "# s3_name = S3_BUCKET.get('NAME')\n",
    "s3_name = 'test-s3-mjjo-v2'\n",
    "s3_region = S3_BUCKET.get('REGION')\n",
    "\n",
    "for row in rows:\n",
    "    schema_name, table_name = row\n",
    "\n",
    "    item = AWSFileTransfer(\n",
    "        host=AWS_AURORA_CONFIG.get('ENDPOINT'),\n",
    "        port=AWS_AURORA_CONFIG.get('PORT'),\n",
    "        user=AWS_AURORA_CONFIG.get('USER'),\n",
    "        password=AWS_AURORA_CONFIG.get('PASSWORD'),\n",
    "        database=AWS_AURORA_CONFIG.get('DBNAME'),\n",
    "        aws_access_key_id=AWS_CONFIG.get('ACCESS_KEY_ID'),\n",
    "        aws_secret_access_key=AWS_CONFIG.get('SECRET_ACCESS_KEY'),\n",
    "        aws_s3_name=S3_BUCKET.get('NAME'),\n",
    "        aws_s3_region=S3_BUCKET.get('REGION')\n",
    "    )\n",
    "    item.export_csv_to_s3(\n",
    "        database_name=database_name,\n",
    "        schema_name=schema_name,\n",
    "        table_name=table_name,\n",
    "        if_exist='replace'\n",
    "    )\n",
    "    item.dump_ddl_to_s3(\n",
    "        database_name=database_name,\n",
    "        schema_name=schema_name,\n",
    "        table_name=table_name,\n",
    "        if_exist='replace'\n",
    "    )\n"
   ],
   "outputs": [
    {
     "output_type": "stream",
     "name": "stdout",
     "text": [
      "DBConn __init__ is called\n",
      "데이터베이스 접속 성공\n"
     ]
    },
    {
     "output_type": "stream",
     "name": "stderr",
     "text": [
      "2023-01-19 15:50:23 | [INFO] | Successful Export raw-data-v2.kb.kb_complex.csv to AWS S3 raw-data-v2/kb/kb_complex/kb_complex.csv |\n",
      "files_uploaded: 1 File(s) | rows_uploaded: 333059 Row(s) | bytes_uploaded: 132.670839 Mb\n",
      "2023-01-19 15:50:23 | [INFO] | Since there is already an object at that path, It terminates the task.\n"
     ]
    },
    {
     "output_type": "stream",
     "name": "stdout",
     "text": [
      "DBConn __init__ is called\n",
      "데이터베이스 접속 성공\n"
     ]
    },
    {
     "output_type": "stream",
     "name": "stderr",
     "text": [
      "2023-01-19 15:50:24 | [INFO] | Successful Export raw-data-v2.kb.kb_complex_202204_w1.csv to AWS S3 raw-data-v2/kb/kb_complex/kb_complex_202204_w1.csv |\n",
      "files_uploaded: 1 File(s) | rows_uploaded: 22137 Row(s) | bytes_uploaded: 8.442809 Mb\n",
      "2023-01-19 15:50:24 | [INFO] | Since there is already an object at that path, It terminates the task.\n"
     ]
    },
    {
     "output_type": "stream",
     "name": "stdout",
     "text": [
      "DBConn __init__ is called\n",
      "데이터베이스 접속 성공\n"
     ]
    },
    {
     "output_type": "stream",
     "name": "stderr",
     "text": [
      "2023-01-19 15:50:25 | [INFO] | Successful Export raw-data-v2.kb.kb_complex_202204_w2.csv to AWS S3 raw-data-v2/kb/kb_complex/kb_complex_202204_w2.csv |\n",
      "files_uploaded: 1 File(s) | rows_uploaded: 22143 Row(s) | bytes_uploaded: 8.444303 Mb\n",
      "2023-01-19 15:50:25 | [INFO] | Since there is already an object at that path, It terminates the task.\n"
     ]
    },
    {
     "output_type": "stream",
     "name": "stdout",
     "text": [
      "DBConn __init__ is called\n",
      "데이터베이스 접속 성공\n"
     ]
    },
    {
     "output_type": "stream",
     "name": "stderr",
     "text": [
      "2023-01-19 15:50:26 | [INFO] | Successful Export raw-data-v2.kb.kb_complex_202204_w3.csv to AWS S3 raw-data-v2/kb/kb_complex/kb_complex_202204_w3.csv |\n",
      "files_uploaded: 1 File(s) | rows_uploaded: 22152 Row(s) | bytes_uploaded: 8.44733 Mb\n",
      "2023-01-19 15:50:26 | [INFO] | Since there is already an object at that path, It terminates the task.\n"
     ]
    },
    {
     "output_type": "stream",
     "name": "stdout",
     "text": [
      "DBConn __init__ is called\n",
      "데이터베이스 접속 성공\n"
     ]
    },
    {
     "output_type": "stream",
     "name": "stderr",
     "text": [
      "2023-01-19 15:50:26 | [INFO] | Successful Export raw-data-v2.kb.kb_complex_202204_w4.csv to AWS S3 raw-data-v2/kb/kb_complex/kb_complex_202204_w4.csv |\n",
      "files_uploaded: 1 File(s) | rows_uploaded: 22152 Row(s) | bytes_uploaded: 8.447015 Mb\n",
      "2023-01-19 15:50:26 | [INFO] | Since there is already an object at that path, It terminates the task.\n"
     ]
    },
    {
     "output_type": "stream",
     "name": "stdout",
     "text": [
      "DBConn __init__ is called\n",
      "데이터베이스 접속 성공\n"
     ]
    },
    {
     "output_type": "stream",
     "name": "stderr",
     "text": [
      "2023-01-19 15:50:27 | [INFO] | Successful Export raw-data-v2.kb.kb_complex_202210_w4.csv to AWS S3 raw-data-v2/kb/kb_complex/kb_complex_202210_w4.csv |\n",
      "files_uploaded: 1 File(s) | rows_uploaded: 22208 Row(s) | bytes_uploaded: 8.984009 Mb\n",
      "2023-01-19 15:50:27 | [INFO] | Since there is already an object at that path, It terminates the task.\n"
     ]
    },
    {
     "output_type": "stream",
     "name": "stdout",
     "text": [
      "DBConn __init__ is called\n",
      "데이터베이스 접속 성공\n"
     ]
    },
    {
     "output_type": "stream",
     "name": "stderr",
     "text": [
      "2023-01-19 15:50:28 | [INFO] | Successful Export raw-data-v2.kb.kb_complex_202211_w1.csv to AWS S3 raw-data-v2/kb/kb_complex/kb_complex_202211_w1.csv |\n",
      "files_uploaded: 1 File(s) | rows_uploaded: 22212 Row(s) | bytes_uploaded: 8.985079 Mb\n",
      "2023-01-19 15:50:28 | [INFO] | Since there is already an object at that path, It terminates the task.\n"
     ]
    },
    {
     "output_type": "stream",
     "name": "stdout",
     "text": [
      "DBConn __init__ is called\n",
      "데이터베이스 접속 성공\n"
     ]
    },
    {
     "output_type": "stream",
     "name": "stderr",
     "text": [
      "2023-01-19 15:50:29 | [INFO] | Successful Export raw-data-v2.kb.kb_complex_202211_w2.csv to AWS S3 raw-data-v2/kb/kb_complex/kb_complex_202211_w2.csv |\n",
      "files_uploaded: 1 File(s) | rows_uploaded: 22216 Row(s) | bytes_uploaded: 8.987567 Mb\n",
      "2023-01-19 15:50:29 | [INFO] | Since there is already an object at that path, It terminates the task.\n"
     ]
    },
    {
     "output_type": "stream",
     "name": "stdout",
     "text": [
      "DBConn __init__ is called\n",
      "데이터베이스 접속 성공\n"
     ]
    },
    {
     "output_type": "stream",
     "name": "stderr",
     "text": [
      "2023-01-19 15:50:29 | [INFO] | Successful Export raw-data-v2.kb.kb_complex_202211_w3.csv to AWS S3 raw-data-v2/kb/kb_complex/kb_complex_202211_w3.csv |\n",
      "files_uploaded: 1 File(s) | rows_uploaded: 22215 Row(s) | bytes_uploaded: 8.98713 Mb\n",
      "2023-01-19 15:50:29 | [INFO] | Since there is already an object at that path, It terminates the task.\n"
     ]
    },
    {
     "output_type": "stream",
     "name": "stdout",
     "text": [
      "DBConn __init__ is called\n",
      "데이터베이스 접속 성공\n"
     ]
    },
    {
     "output_type": "stream",
     "name": "stderr",
     "text": [
      "2023-01-19 15:50:30 | [INFO] | Successful Export raw-data-v2.kb.kb_complex_202211_w4.csv to AWS S3 raw-data-v2/kb/kb_complex/kb_complex_202211_w4.csv |\n",
      "files_uploaded: 1 File(s) | rows_uploaded: 22220 Row(s) | bytes_uploaded: 8.98902 Mb\n",
      "2023-01-19 15:50:30 | [INFO] | Since there is already an object at that path, It terminates the task.\n"
     ]
    },
    {
     "output_type": "stream",
     "name": "stdout",
     "text": [
      "DBConn __init__ is called\n",
      "데이터베이스 접속 성공\n"
     ]
    },
    {
     "output_type": "stream",
     "name": "stderr",
     "text": [
      "2023-01-19 15:50:31 | [INFO] | Successful Export raw-data-v2.kb.kb_complex_202212_w1.csv to AWS S3 raw-data-v2/kb/kb_complex/kb_complex_202212_w1.csv |\n",
      "files_uploaded: 1 File(s) | rows_uploaded: 22227 Row(s) | bytes_uploaded: 8.991788 Mb\n",
      "2023-01-19 15:50:31 | [INFO] | Since there is already an object at that path, It terminates the task.\n"
     ]
    },
    {
     "output_type": "stream",
     "name": "stdout",
     "text": [
      "DBConn __init__ is called\n",
      "데이터베이스 접속 성공\n"
     ]
    },
    {
     "output_type": "stream",
     "name": "stderr",
     "text": [
      "2023-01-19 15:50:32 | [INFO] | Successful Export raw-data-v2.kb.kb_complex_202212_w2.csv to AWS S3 raw-data-v2/kb/kb_complex/kb_complex_202212_w2.csv |\n",
      "files_uploaded: 1 File(s) | rows_uploaded: 22229 Row(s) | bytes_uploaded: 8.992483 Mb\n",
      "2023-01-19 15:50:32 | [INFO] | Since there is already an object at that path, It terminates the task.\n"
     ]
    },
    {
     "output_type": "stream",
     "name": "stdout",
     "text": [
      "DBConn __init__ is called\n",
      "데이터베이스 접속 성공\n"
     ]
    },
    {
     "output_type": "error",
     "ename": "KeyboardInterrupt",
     "evalue": "",
     "traceback": [
      "\u001b[0;31m---------------------------------------------------------------------------\u001b[0m",
      "\u001b[0;31mKeyboardInterrupt\u001b[0m                         Traceback (most recent call last)",
      "\u001b[0;32m/var/folders/l0/snqtm3ns5ws8xlm_zh2f5tyh0000gn/T/ipykernel_22342/436199535.py\u001b[0m in \u001b[0;36m<module>\u001b[0;34m\u001b[0m\n\u001b[1;32m      7\u001b[0m     \u001b[0mschema_name\u001b[0m\u001b[0;34m,\u001b[0m \u001b[0mtable_name\u001b[0m \u001b[0;34m=\u001b[0m \u001b[0mrow\u001b[0m\u001b[0;34m\u001b[0m\u001b[0;34m\u001b[0m\u001b[0m\n\u001b[1;32m      8\u001b[0m \u001b[0;34m\u001b[0m\u001b[0m\n\u001b[0;32m----> 9\u001b[0;31m     item = AWSFileTransfer(\n\u001b[0m\u001b[1;32m     10\u001b[0m         \u001b[0mhost\u001b[0m\u001b[0;34m=\u001b[0m\u001b[0mAWS_AURORA_CONFIG\u001b[0m\u001b[0;34m.\u001b[0m\u001b[0mget\u001b[0m\u001b[0;34m(\u001b[0m\u001b[0;34m'ENDPOINT'\u001b[0m\u001b[0;34m)\u001b[0m\u001b[0;34m,\u001b[0m\u001b[0;34m\u001b[0m\u001b[0;34m\u001b[0m\u001b[0m\n\u001b[1;32m     11\u001b[0m         \u001b[0mport\u001b[0m\u001b[0;34m=\u001b[0m\u001b[0mAWS_AURORA_CONFIG\u001b[0m\u001b[0;34m.\u001b[0m\u001b[0mget\u001b[0m\u001b[0;34m(\u001b[0m\u001b[0;34m'PORT'\u001b[0m\u001b[0;34m)\u001b[0m\u001b[0;34m,\u001b[0m\u001b[0;34m\u001b[0m\u001b[0;34m\u001b[0m\u001b[0m\n",
      "\u001b[0;32m~/Documents/valueofspace/acl-boto3/classes/AWSFileTransfer.py\u001b[0m in \u001b[0;36m__init__\u001b[0;34m(self, host, port, user, password, database, aws_access_key_id, aws_secret_access_key, aws_s3_name, aws_s3_region)\u001b[0m\n\u001b[1;32m     49\u001b[0m         ).getPsypgConn()\n\u001b[1;32m     50\u001b[0m         \u001b[0mself\u001b[0m\u001b[0;34m.\u001b[0m\u001b[0mcur\u001b[0m \u001b[0;34m=\u001b[0m \u001b[0mself\u001b[0m\u001b[0;34m.\u001b[0m\u001b[0mcon\u001b[0m\u001b[0;34m.\u001b[0m\u001b[0mcursor\u001b[0m\u001b[0;34m(\u001b[0m\u001b[0;34m)\u001b[0m\u001b[0;34m\u001b[0m\u001b[0;34m\u001b[0m\u001b[0m\n\u001b[0;32m---> 51\u001b[0;31m         self.session = Boto3Client(\n\u001b[0m\u001b[1;32m     52\u001b[0m             \u001b[0mself\u001b[0m\u001b[0;34m.\u001b[0m\u001b[0maws_access_key_id\u001b[0m\u001b[0;34m,\u001b[0m\u001b[0;34m\u001b[0m\u001b[0;34m\u001b[0m\u001b[0m\n\u001b[1;32m     53\u001b[0m             \u001b[0mself\u001b[0m\u001b[0;34m.\u001b[0m\u001b[0maws_secret_access_key\u001b[0m\u001b[0;34m,\u001b[0m\u001b[0;34m\u001b[0m\u001b[0;34m\u001b[0m\u001b[0m\n",
      "\u001b[0;32m~/Documents/valueofspace/acl-boto3/classes/Client.py\u001b[0m in \u001b[0;36m__init__\u001b[0;34m(self, aws_access_key_id, aws_secret_access_key, aws_s3_name, aws_s3_region)\u001b[0m\n\u001b[1;32m     21\u001b[0m             \u001b[0mregion_name\u001b[0m \u001b[0;34m=\u001b[0m \u001b[0maws_s3_region\u001b[0m\u001b[0;34m\u001b[0m\u001b[0;34m\u001b[0m\u001b[0m\n\u001b[1;32m     22\u001b[0m         )\n\u001b[0;32m---> 23\u001b[0;31m         \u001b[0mself\u001b[0m\u001b[0;34m.\u001b[0m\u001b[0ms3_client\u001b[0m \u001b[0;34m=\u001b[0m \u001b[0mself\u001b[0m\u001b[0;34m.\u001b[0m\u001b[0msession\u001b[0m\u001b[0;34m.\u001b[0m\u001b[0mclient\u001b[0m\u001b[0;34m(\u001b[0m\u001b[0;34m's3'\u001b[0m\u001b[0;34m)\u001b[0m\u001b[0;34m\u001b[0m\u001b[0;34m\u001b[0m\u001b[0m\n\u001b[0m\u001b[1;32m     24\u001b[0m         \u001b[0mself\u001b[0m\u001b[0;34m.\u001b[0m\u001b[0ms3_resource\u001b[0m \u001b[0;34m=\u001b[0m \u001b[0mself\u001b[0m\u001b[0;34m.\u001b[0m\u001b[0msession\u001b[0m\u001b[0;34m.\u001b[0m\u001b[0mresource\u001b[0m\u001b[0;34m(\u001b[0m\u001b[0;34m's3'\u001b[0m\u001b[0;34m)\u001b[0m\u001b[0;34m\u001b[0m\u001b[0;34m\u001b[0m\u001b[0m\n",
      "\u001b[0;32m/opt/anaconda3/envs/geo/lib/python3.8/site-packages/boto3/session.py\u001b[0m in \u001b[0;36mclient\u001b[0;34m(self, service_name, region_name, api_version, use_ssl, verify, endpoint_url, aws_access_key_id, aws_secret_access_key, aws_session_token, config)\u001b[0m\n\u001b[1;32m    297\u001b[0m \u001b[0;34m\u001b[0m\u001b[0m\n\u001b[1;32m    298\u001b[0m         \"\"\"\n\u001b[0;32m--> 299\u001b[0;31m         return self._session.create_client(\n\u001b[0m\u001b[1;32m    300\u001b[0m             \u001b[0mservice_name\u001b[0m\u001b[0;34m,\u001b[0m\u001b[0;34m\u001b[0m\u001b[0;34m\u001b[0m\u001b[0m\n\u001b[1;32m    301\u001b[0m             \u001b[0mregion_name\u001b[0m\u001b[0;34m=\u001b[0m\u001b[0mregion_name\u001b[0m\u001b[0;34m,\u001b[0m\u001b[0;34m\u001b[0m\u001b[0;34m\u001b[0m\u001b[0m\n",
      "\u001b[0;32m/opt/anaconda3/envs/geo/lib/python3.8/site-packages/botocore/session.py\u001b[0m in \u001b[0;36mcreate_client\u001b[0;34m(self, service_name, region_name, api_version, use_ssl, verify, endpoint_url, aws_access_key_id, aws_secret_access_key, aws_session_token, config)\u001b[0m\n\u001b[1;32m    974\u001b[0m             \u001b[0mconfig_store\u001b[0m\u001b[0;34m,\u001b[0m\u001b[0;34m\u001b[0m\u001b[0;34m\u001b[0m\u001b[0m\n\u001b[1;32m    975\u001b[0m         )\n\u001b[0;32m--> 976\u001b[0;31m         client = client_creator.create_client(\n\u001b[0m\u001b[1;32m    977\u001b[0m             \u001b[0mservice_name\u001b[0m\u001b[0;34m=\u001b[0m\u001b[0mservice_name\u001b[0m\u001b[0;34m,\u001b[0m\u001b[0;34m\u001b[0m\u001b[0;34m\u001b[0m\u001b[0m\n\u001b[1;32m    978\u001b[0m             \u001b[0mregion_name\u001b[0m\u001b[0;34m=\u001b[0m\u001b[0mregion_name\u001b[0m\u001b[0;34m,\u001b[0m\u001b[0;34m\u001b[0m\u001b[0;34m\u001b[0m\u001b[0m\n",
      "\u001b[0;32m/opt/anaconda3/envs/geo/lib/python3.8/site-packages/botocore/client.py\u001b[0m in \u001b[0;36mcreate_client\u001b[0;34m(self, service_name, region_name, is_secure, endpoint_url, verify, credentials, scoped_config, api_version, client_config, auth_token)\u001b[0m\n\u001b[1;32m    126\u001b[0m         \u001b[0mservice_model\u001b[0m \u001b[0;34m=\u001b[0m \u001b[0mself\u001b[0m\u001b[0;34m.\u001b[0m\u001b[0m_load_service_model\u001b[0m\u001b[0;34m(\u001b[0m\u001b[0mservice_name\u001b[0m\u001b[0;34m,\u001b[0m \u001b[0mapi_version\u001b[0m\u001b[0;34m)\u001b[0m\u001b[0;34m\u001b[0m\u001b[0;34m\u001b[0m\u001b[0m\n\u001b[1;32m    127\u001b[0m         \u001b[0;32mtry\u001b[0m\u001b[0;34m:\u001b[0m\u001b[0;34m\u001b[0m\u001b[0;34m\u001b[0m\u001b[0m\n\u001b[0;32m--> 128\u001b[0;31m             endpoints_ruleset_data = self._load_service_endpoints_ruleset(\n\u001b[0m\u001b[1;32m    129\u001b[0m                 \u001b[0mservice_name\u001b[0m\u001b[0;34m,\u001b[0m \u001b[0mapi_version\u001b[0m\u001b[0;34m\u001b[0m\u001b[0;34m\u001b[0m\u001b[0m\n\u001b[1;32m    130\u001b[0m             )\n",
      "\u001b[0;32m/opt/anaconda3/envs/geo/lib/python3.8/site-packages/botocore/client.py\u001b[0m in \u001b[0;36m_load_service_endpoints_ruleset\u001b[0;34m(self, service_name, api_version)\u001b[0m\n\u001b[1;32m    233\u001b[0m \u001b[0;34m\u001b[0m\u001b[0m\n\u001b[1;32m    234\u001b[0m     \u001b[0;32mdef\u001b[0m \u001b[0m_load_service_endpoints_ruleset\u001b[0m\u001b[0;34m(\u001b[0m\u001b[0mself\u001b[0m\u001b[0;34m,\u001b[0m \u001b[0mservice_name\u001b[0m\u001b[0;34m,\u001b[0m \u001b[0mapi_version\u001b[0m\u001b[0;34m=\u001b[0m\u001b[0;32mNone\u001b[0m\u001b[0;34m)\u001b[0m\u001b[0;34m:\u001b[0m\u001b[0;34m\u001b[0m\u001b[0;34m\u001b[0m\u001b[0m\n\u001b[0;32m--> 235\u001b[0;31m         return self._loader.load_service_model(\n\u001b[0m\u001b[1;32m    236\u001b[0m             \u001b[0mservice_name\u001b[0m\u001b[0;34m,\u001b[0m \u001b[0;34m'endpoint-rule-set-1'\u001b[0m\u001b[0;34m,\u001b[0m \u001b[0mapi_version\u001b[0m\u001b[0;34m=\u001b[0m\u001b[0mapi_version\u001b[0m\u001b[0;34m\u001b[0m\u001b[0;34m\u001b[0m\u001b[0m\n\u001b[1;32m    237\u001b[0m         )\n",
      "\u001b[0;32m/opt/anaconda3/envs/geo/lib/python3.8/site-packages/botocore/loaders.py\u001b[0m in \u001b[0;36m_wrapper\u001b[0;34m(self, *args, **kwargs)\u001b[0m\n\u001b[1;32m    140\u001b[0m         \u001b[0;32mif\u001b[0m \u001b[0mkey\u001b[0m \u001b[0;32min\u001b[0m \u001b[0mself\u001b[0m\u001b[0;34m.\u001b[0m\u001b[0m_cache\u001b[0m\u001b[0;34m:\u001b[0m\u001b[0;34m\u001b[0m\u001b[0;34m\u001b[0m\u001b[0m\n\u001b[1;32m    141\u001b[0m             \u001b[0;32mreturn\u001b[0m \u001b[0mself\u001b[0m\u001b[0;34m.\u001b[0m\u001b[0m_cache\u001b[0m\u001b[0;34m[\u001b[0m\u001b[0mkey\u001b[0m\u001b[0;34m]\u001b[0m\u001b[0;34m\u001b[0m\u001b[0;34m\u001b[0m\u001b[0m\n\u001b[0;32m--> 142\u001b[0;31m         \u001b[0mdata\u001b[0m \u001b[0;34m=\u001b[0m \u001b[0mfunc\u001b[0m\u001b[0;34m(\u001b[0m\u001b[0mself\u001b[0m\u001b[0;34m,\u001b[0m \u001b[0;34m*\u001b[0m\u001b[0margs\u001b[0m\u001b[0;34m,\u001b[0m \u001b[0;34m**\u001b[0m\u001b[0mkwargs\u001b[0m\u001b[0;34m)\u001b[0m\u001b[0;34m\u001b[0m\u001b[0;34m\u001b[0m\u001b[0m\n\u001b[0m\u001b[1;32m    143\u001b[0m         \u001b[0mself\u001b[0m\u001b[0;34m.\u001b[0m\u001b[0m_cache\u001b[0m\u001b[0;34m[\u001b[0m\u001b[0mkey\u001b[0m\u001b[0;34m]\u001b[0m \u001b[0;34m=\u001b[0m \u001b[0mdata\u001b[0m\u001b[0;34m\u001b[0m\u001b[0;34m\u001b[0m\u001b[0m\n\u001b[1;32m    144\u001b[0m         \u001b[0;32mreturn\u001b[0m \u001b[0mdata\u001b[0m\u001b[0;34m\u001b[0m\u001b[0;34m\u001b[0m\u001b[0m\n",
      "\u001b[0;32m/opt/anaconda3/envs/geo/lib/python3.8/site-packages/botocore/loaders.py\u001b[0m in \u001b[0;36mload_service_model\u001b[0;34m(self, service_name, type_name, api_version)\u001b[0m\n\u001b[1;32m    404\u001b[0m         \u001b[0;31m# Wrapper around the load_data.  This will calculate the path\u001b[0m\u001b[0;34m\u001b[0m\u001b[0;34m\u001b[0m\u001b[0;34m\u001b[0m\u001b[0m\n\u001b[1;32m    405\u001b[0m         \u001b[0;31m# to call load_data with.\u001b[0m\u001b[0;34m\u001b[0m\u001b[0;34m\u001b[0m\u001b[0;34m\u001b[0m\u001b[0m\n\u001b[0;32m--> 406\u001b[0;31m         \u001b[0mknown_services\u001b[0m \u001b[0;34m=\u001b[0m \u001b[0mself\u001b[0m\u001b[0;34m.\u001b[0m\u001b[0mlist_available_services\u001b[0m\u001b[0;34m(\u001b[0m\u001b[0mtype_name\u001b[0m\u001b[0;34m)\u001b[0m\u001b[0;34m\u001b[0m\u001b[0;34m\u001b[0m\u001b[0m\n\u001b[0m\u001b[1;32m    407\u001b[0m         \u001b[0;32mif\u001b[0m \u001b[0mservice_name\u001b[0m \u001b[0;32mnot\u001b[0m \u001b[0;32min\u001b[0m \u001b[0mknown_services\u001b[0m\u001b[0;34m:\u001b[0m\u001b[0;34m\u001b[0m\u001b[0;34m\u001b[0m\u001b[0m\n\u001b[1;32m    408\u001b[0m             raise UnknownServiceError(\n",
      "\u001b[0;32m/opt/anaconda3/envs/geo/lib/python3.8/site-packages/botocore/loaders.py\u001b[0m in \u001b[0;36m_wrapper\u001b[0;34m(self, *args, **kwargs)\u001b[0m\n\u001b[1;32m    140\u001b[0m         \u001b[0;32mif\u001b[0m \u001b[0mkey\u001b[0m \u001b[0;32min\u001b[0m \u001b[0mself\u001b[0m\u001b[0;34m.\u001b[0m\u001b[0m_cache\u001b[0m\u001b[0;34m:\u001b[0m\u001b[0;34m\u001b[0m\u001b[0;34m\u001b[0m\u001b[0m\n\u001b[1;32m    141\u001b[0m             \u001b[0;32mreturn\u001b[0m \u001b[0mself\u001b[0m\u001b[0;34m.\u001b[0m\u001b[0m_cache\u001b[0m\u001b[0;34m[\u001b[0m\u001b[0mkey\u001b[0m\u001b[0;34m]\u001b[0m\u001b[0;34m\u001b[0m\u001b[0;34m\u001b[0m\u001b[0m\n\u001b[0;32m--> 142\u001b[0;31m         \u001b[0mdata\u001b[0m \u001b[0;34m=\u001b[0m \u001b[0mfunc\u001b[0m\u001b[0;34m(\u001b[0m\u001b[0mself\u001b[0m\u001b[0;34m,\u001b[0m \u001b[0;34m*\u001b[0m\u001b[0margs\u001b[0m\u001b[0;34m,\u001b[0m \u001b[0;34m**\u001b[0m\u001b[0mkwargs\u001b[0m\u001b[0;34m)\u001b[0m\u001b[0;34m\u001b[0m\u001b[0;34m\u001b[0m\u001b[0m\n\u001b[0m\u001b[1;32m    143\u001b[0m         \u001b[0mself\u001b[0m\u001b[0;34m.\u001b[0m\u001b[0m_cache\u001b[0m\u001b[0;34m[\u001b[0m\u001b[0mkey\u001b[0m\u001b[0;34m]\u001b[0m \u001b[0;34m=\u001b[0m \u001b[0mdata\u001b[0m\u001b[0;34m\u001b[0m\u001b[0;34m\u001b[0m\u001b[0m\n\u001b[1;32m    144\u001b[0m         \u001b[0;32mreturn\u001b[0m \u001b[0mdata\u001b[0m\u001b[0;34m\u001b[0m\u001b[0;34m\u001b[0m\u001b[0m\n",
      "\u001b[0;32m/opt/anaconda3/envs/geo/lib/python3.8/site-packages/botocore/loaders.py\u001b[0m in \u001b[0;36mlist_available_services\u001b[0;34m(self, type_name)\u001b[0m\n\u001b[1;32m    309\u001b[0m             \u001b[0;32mfor\u001b[0m \u001b[0mservice_name\u001b[0m \u001b[0;32min\u001b[0m \u001b[0mpossible_services\u001b[0m\u001b[0;34m:\u001b[0m\u001b[0;34m\u001b[0m\u001b[0;34m\u001b[0m\u001b[0m\n\u001b[1;32m    310\u001b[0m                 \u001b[0mfull_dirname\u001b[0m \u001b[0;34m=\u001b[0m \u001b[0mos\u001b[0m\u001b[0;34m.\u001b[0m\u001b[0mpath\u001b[0m\u001b[0;34m.\u001b[0m\u001b[0mjoin\u001b[0m\u001b[0;34m(\u001b[0m\u001b[0mpossible_path\u001b[0m\u001b[0;34m,\u001b[0m \u001b[0mservice_name\u001b[0m\u001b[0;34m)\u001b[0m\u001b[0;34m\u001b[0m\u001b[0;34m\u001b[0m\u001b[0m\n\u001b[0;32m--> 311\u001b[0;31m                 \u001b[0mapi_versions\u001b[0m \u001b[0;34m=\u001b[0m \u001b[0mos\u001b[0m\u001b[0;34m.\u001b[0m\u001b[0mlistdir\u001b[0m\u001b[0;34m(\u001b[0m\u001b[0mfull_dirname\u001b[0m\u001b[0;34m)\u001b[0m\u001b[0;34m\u001b[0m\u001b[0;34m\u001b[0m\u001b[0m\n\u001b[0m\u001b[1;32m    312\u001b[0m                 \u001b[0;32mfor\u001b[0m \u001b[0mapi_version\u001b[0m \u001b[0;32min\u001b[0m \u001b[0mapi_versions\u001b[0m\u001b[0;34m:\u001b[0m\u001b[0;34m\u001b[0m\u001b[0;34m\u001b[0m\u001b[0m\n\u001b[1;32m    313\u001b[0m                     full_load_path = os.path.join(\n",
      "\u001b[0;31mKeyboardInterrupt\u001b[0m: "
     ]
    }
   ],
   "metadata": {}
  },
  {
   "cell_type": "code",
   "execution_count": 17,
   "source": [
    "import os\n",
    "import subprocess\n",
    "\n",
    "file_path = 'raw-data-v2/kb/kb_ho_estimated_price/kb_ho_estimated_price_202204_w2_DDL.sql'\n",
    "\n",
    "sql = f\"\"\"\n",
    "wget -O - 's3://{item.aws_s3_name}/{file_path}' | \\\n",
    "psql \\\n",
    "-h {item.host} \\\n",
    "-p {item.port} \\\n",
    "-d {item.database} \\\n",
    "-U {item.user} \\\n",
    "-w\n",
    "\"\"\"\n",
    "\n",
    "print(sql)\n",
    "restore_success = 1\n",
    "try:\n",
    "    subprocess.run(\n",
    "        sql,\n",
    "        shell=True,\n",
    "        env={**os.environ, \"PGPASSWORD\": f\"{item.password}\"}\n",
    "    )\n",
    "    print('successful')\n",
    "except:\n",
    "    restore_success = 0\n",
    "    raise subprocess.SubprocessError"
   ],
   "outputs": [
    {
     "output_type": "stream",
     "name": "stdout",
     "text": [
      "\n",
      "wget -O - 's3://test-s3-mjjo-v2/raw-data-v2/kb/kb_ho_estimated_price/kb_ho_estimated_price_202204_w2_DDL.sql' | psql -h testauroradb.cluster-cnrubms6kbmf.ap-northeast-2.rds.amazonaws.com -p 5432 -d postgres -U postgres -w\n",
      "\n",
      "successful\n"
     ]
    },
    {
     "output_type": "stream",
     "name": "stderr",
     "text": [
      "s3://test-s3-mjjo-v2/raw-data-v2/kb/kb_ho_estimated_price/kb_ho_estimated_price_202204_w2_DDL.sql: 지원하지 않는 `s3' 스킴.\n"
     ]
    }
   ],
   "metadata": {}
  },
  {
   "cell_type": "code",
   "execution_count": 5,
   "source": [
    "item.host"
   ],
   "outputs": [
    {
     "output_type": "execute_result",
     "data": {
      "text/plain": [
       "'testauroradb.cluster-cnrubms6kbmf.ap-northeast-2.rds.amazonaws.com'"
      ]
     },
     "metadata": {},
     "execution_count": 5
    }
   ],
   "metadata": {}
  },
  {
   "cell_type": "code",
   "execution_count": null,
   "source": [],
   "outputs": [],
   "metadata": {}
  }
 ],
 "metadata": {
  "orig_nbformat": 4,
  "language_info": {
   "name": "python",
   "version": "3.8.11",
   "mimetype": "text/x-python",
   "codemirror_mode": {
    "name": "ipython",
    "version": 3
   },
   "pygments_lexer": "ipython3",
   "nbconvert_exporter": "python",
   "file_extension": ".py"
  },
  "kernelspec": {
   "name": "python3",
   "display_name": "Python 3.8.11 64-bit ('geo': conda)"
  },
  "interpreter": {
   "hash": "aca107e0e154646abe83cd589625b429b21580b3737760b06b20133a10f63dc5"
  }
 },
 "nbformat": 4,
 "nbformat_minor": 2
}